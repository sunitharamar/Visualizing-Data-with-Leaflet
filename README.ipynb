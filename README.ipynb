{
 "cells": [
  {
   "cell_type": "markdown",
   "metadata": {},
   "source": [
    "## How to run the app on visual studio:\n",
    "\n",
    "   1) cd to your data directory: \n",
    "      cd $Visualizing-Data-with-Leaflet3/\n",
    "\n",
    "   2) python -m http.server\n",
    "\n",
    "Sunithas-MacBook-Pro:Data-Journalism-and-D3 sunitharamakrishnan$ python -m http.server \n",
    "\n",
    "     Serving HTTP on 127.0.0.1 port 8000 (http://127.0.0.1:8000/) ... 127.0.0.1 - - [22/Mar/2018 12:13:48] \n",
    "     \"GET /   HTTP/1.1\" 200 - 127.0.0.1 - - [22/Mar/2018 12:13:48] \n",
    "     \"GET /style.css HTTP/1.1\" 200 - 127.0.0.1 - - [22/Mar/2018 12:13:49] \n",
    "     \"GET /d3.html HTTP/1.1\" 200 - 127.0.0.1 - - [22/Mar/2018 12:13:49] \n",
    "     \"GET /d3style.css HTTP/1.1\" 200 - 127.0.0.1 - - [22/Mar/2018 12:13:49] \n",
    "     \"GET /app.js HTTP/1.1\" 200 - 127.0.0.1 - - [22/Mar/2018 12:13:49] \n",
    "     \"GET /data/data.csv HTTP/1.1\" 200 -\n",
    "\n",
    "   3) Now go to a web browser:\n",
    "\n",
    "      http://127.0.0.1:8000/  <-- to look at the graphics data visualization chart."
   ]
  },
  {
   "cell_type": "markdown",
   "metadata": {},
   "source": [
    "  [convert notebook to other formats](http://ipython.org/ipython-doc/3/notebook/nbconvert.html)"
   ]
  },
  {
   "cell_type": "markdown",
   "metadata": {
    "collapsed": true
   },
   "source": [
    "## How to convert the notebook to other formats:\n",
    "   \n",
    "   \n",
    "    [convert notebook to other formats](http://ipython.org/ipython-doc/3/notebook/nbconvert.html)\n",
    "   \n",
    "    The command-line syntax to run the nbconvert script is:\n",
    "\n",
    "    $ ipython nbconvert --to FORMAT notebook.ipynb\n",
    "    ex: ipython nbconvert --to markdown README.ipynb\n",
    "    \n",
    "    This will convert the IPython document file README.ipynb into the output format given by the markdown string.\n",
    "    ex: README.md\n",
    " "
   ]
  },
  {
   "cell_type": "markdown",
   "metadata": {},
   "source": [
    "# Unit 17 | Assignment - Visualizing Data with Leaflet"
   ]
  },
  {
   "cell_type": "markdown",
   "metadata": {},
   "source": [
    "# Background"
   ]
  },
  {
   "cell_type": "markdown",
   "metadata": {},
   "source": [
    "![title](img/Logo.png)"
   ]
  },
  {
   "cell_type": "markdown",
   "metadata": {},
   "source": [
    "Welcome to the United States Geological Survey, or USGS for short! The USGS is responsible for providing scientific data about natural hazards, the health of our ecosystems and environment; and the impacts of climate and land-use change. Their scientists develop new methods and tools to supply timely, relevant, and useful information about the Earth and its processes. As a new hire, you will be helping them out with an exciting new project!\n",
    "\n",
    "The USGS is interested in building a new set of tools that will allow them visualize their earthquake data. They collect a massive amount of data from all over the world each day, but they lack a meaningful way of displaying it. Their hope is that being able to visualize their data will allow them to better educate the public and other government organizations (and hopefully secure more funding..) on issues facing our planet.\n",
    "\n",
    "\n",
    "# Your Task\n",
    "## Step 1: Basic Visualization\n",
    " "
   ]
  },
  {
   "cell_type": "markdown",
   "metadata": {},
   "source": [
    "![title](img/BasicMap.png)"
   ]
  },
  {
   "cell_type": "markdown",
   "metadata": {},
   "source": [
    "Your first task is to visualize an earthquake data set.\n",
    "\n",
    "## Get your data set"
   ]
  },
  {
   "cell_type": "markdown",
   "metadata": {},
   "source": [
    "![title](img/Data.png)"
   ]
  },
  {
   "cell_type": "markdown",
   "metadata": {},
   "source": [
    "The USGS provides earthquake data in a number of different formats, updated every 5 minutes. Visit the [USGS GeoJSON](https://earthquake.usgs.gov/earthquakes/feed/v1.0/geojson.php) Feed page and pick a data set to visualize. When you click on a data set, for example 'All Earthquakes from the Past 7 Days', you will be given a JSON representation of that data. You will be using the URL of this JSON to pull in the data for our visualization."
   ]
  },
  {
   "cell_type": "markdown",
   "metadata": {},
   "source": [
    "![title](img/JSON.png)"
   ]
  },
  {
   "cell_type": "markdown",
   "metadata": {},
   "source": [
    "# 1.Import & Visualize the Data\n",
    "    \n",
    "Create a map using Leaflet that plots all of the earthquakes from your data set based on their longitude and latitude.\n",
    "\n",
    "Your data markers should reflect the magnitude of the earthquake in their size and color. Earthquakes with higher magnitudes should appear larger and darker in color.\n",
    "\n",
    "Include popups that provide additional information about the earthquake when a marker is clicked.\n",
    "\n",
    "Create a legend that will provide context for your map data.\n",
    "\n",
    "Your visualization should look something like the map above.\n",
    "\n",
    "## Step 2: More Data "
   ]
  },
  {
   "cell_type": "markdown",
   "metadata": {},
   "source": [
    "![title](img/Advanced.png)"
   ]
  },
  {
   "cell_type": "markdown",
   "metadata": {},
   "source": [
    "The USGS wants you to plot a second data set on your map to illustrate the relationship between tectonic plates and seismic activity. You will need to pull in a second data set and visualize it along side your original set of data. Data on tectonic plates can be found at https://github.com/fraxen/tectonicplates.\n",
    "\n",
    "In this step we are going to..\n",
    "\n",
    "Plot a second data set on our map.\n",
    "\n",
    "Add a number of base maps to choose from as well as separate out our two different data sets into overlays that can be turned on and off independently.\n",
    "\n",
    "Add layer controls to our map.\n",
    "\n",
    " \n"
   ]
  },
  {
   "cell_type": "markdown",
   "metadata": {},
   "source": [
    "## Step 3: Time Keeps on Ticking"
   ]
  },
  {
   "cell_type": "markdown",
   "metadata": {},
   "source": [
    "![alt text](img/Time_Keeps_On_Ticking.gif \"Title\")"
   ]
  },
  {
   "cell_type": "markdown",
   "metadata": {},
   "source": [
    "Many people don't know how much seismic activity is happening around them all the time. Did you know that Southern California has over 10,000 earthquakes each year alone? The USGS wants you to create a map that will visualize just how many earthquakes happen over the course of a day/week.\n",
    "\n",
    "Your task is to use a Leaflet plugin (they can be found at http://leafletjs.com/plugins.html) to visualize your earthquake as it takes place over a period of time.\n",
    "\n",
    "\n",
    "## Bonus: Above and Beyond\n",
    "You're so excited to be in your new position you really want to do something that will blow them away. You came up with two ideas of ways to go above and beyond:\n",
    "\n",
    "Find another set of geospatial data that you can use to show a new correlation or insight about our existing earthquake data.\n",
    "\n",
    "Use additional plug-ins from the [Leaflet Documentation](http://leafletjs.com/plugins.html) to further visualize our data in a unique way.\n",
    "\n",
    "Heatmap"
   ]
  },
  {
   "cell_type": "markdown",
   "metadata": {},
   "source": [
    "![title](img/Heat.png)"
   ]
  },
  {
   "cell_type": "markdown",
   "metadata": {},
   "source": [
    "Data Clustering"
   ]
  },
  {
   "cell_type": "markdown",
   "metadata": {},
   "source": [
    "![title](img/cluster.png)"
   ]
  },
  {
   "cell_type": "markdown",
   "metadata": {},
   "source": [
    "### Assessment\n",
    "Your final product will be assessed on the following metrics:\n",
    "\n",
    "Completion of all steps in chosen level\n",
    "\n",
    "Visual attraction\n",
    "\n",
    "Professionalism\n",
    "\n",
    "Good luck!\n",
    "\n",
    "### Copyright\n",
    "Coding Boot Camp (C) 2016. All Rights Reserved."
   ]
  },
  {
   "cell_type": "code",
   "execution_count": null,
   "metadata": {
    "collapsed": true
   },
   "outputs": [],
   "source": []
  }
 ],
 "metadata": {
  "kernelspec": {
   "display_name": "Python 3",
   "language": "python",
   "name": "python3"
  },
  "language_info": {
   "codemirror_mode": {
    "name": "ipython",
    "version": 3
   },
   "file_extension": ".py",
   "mimetype": "text/x-python",
   "name": "python",
   "nbconvert_exporter": "python",
   "pygments_lexer": "ipython3",
   "version": "3.6.3"
  }
 },
 "nbformat": 4,
 "nbformat_minor": 2
}
